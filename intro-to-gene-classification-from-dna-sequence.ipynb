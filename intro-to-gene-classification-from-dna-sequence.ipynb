{
 "cells": [
  {
   "cell_type": "markdown",
   "id": "f14b7c10",
   "metadata": {
    "papermill": {
     "duration": 0.032229,
     "end_time": "2021-08-23T16:25:33.720808",
     "exception": false,
     "start_time": "2021-08-23T16:25:33.688579",
     "status": "completed"
    },
    "tags": []
   },
   "source": [
    "##                                          Introduction to Gene Family Classifcation from DNA Sequence using Machine Learning Techniques"
   ]
  },
  {
   "cell_type": "markdown",
   "id": "14d9af55",
   "metadata": {
    "papermill": {
     "duration": 0.029998,
     "end_time": "2021-08-23T16:25:33.783575",
     "exception": false,
     "start_time": "2021-08-23T16:25:33.753577",
     "status": "completed"
    },
    "tags": []
   },
   "source": [
    "## Problem Description:\n",
    "\n",
    "DNA (Deoxyribonucleic acid) is a complex, long-chained molecule that encodes the genetic characteristics of a living organism.It is like  the language of life. The language encodes instructions as well as function for the molecules that are found in all life forms. The sequence language analogy continues with the genome as the book, subsequences (genes and gene families) are sentences and chapters, k-mers and peptides (motifs) are words, and nucleotide bases and amino acids are the alphabet. Since the analogy seems so apt, it stands to reason that the amazing work done in the NLP field can also apply to the natural language of DNA and protein sequences.\n",
    "\n",
    "In this Notebook ,Lets Explore about how Machine Learning Techniques for Text can be used for Genomes"
   ]
  },
  {
   "cell_type": "markdown",
   "id": "fcea4aa8",
   "metadata": {
    "papermill": {
     "duration": 0.031614,
     "end_time": "2021-08-23T16:25:33.845694",
     "exception": false,
     "start_time": "2021-08-23T16:25:33.814080",
     "status": "completed"
    },
    "tags": []
   },
   "source": [
    "##### Importing Necessary Libraries for analysis"
   ]
  },
  {
   "cell_type": "code",
   "execution_count": 1,
   "id": "5d8bf280",
   "metadata": {
    "execution": {
     "iopub.execute_input": "2021-08-23T16:25:33.917937Z",
     "iopub.status.busy": "2021-08-23T16:25:33.917225Z",
     "iopub.status.idle": "2021-08-23T16:25:34.900488Z",
     "shell.execute_reply": "2021-08-23T16:25:34.901172Z",
     "shell.execute_reply.started": "2021-08-23T11:59:27.944814Z"
    },
    "papermill": {
     "duration": 1.025052,
     "end_time": "2021-08-23T16:25:34.901445",
     "exception": false,
     "start_time": "2021-08-23T16:25:33.876393",
     "status": "completed"
    },
    "tags": []
   },
   "outputs": [],
   "source": [
    "import pandas as pd\n",
    "import numpy as np\n",
    "import Bio\n",
    "import matplotlib.pyplot as plt\n",
    "%matplotlib inline\n",
    "import seaborn as sns\n",
    "from IPython.display import Image\n",
    "sns.set()"
   ]
  },
  {
   "cell_type": "code",
   "execution_count": 2,
   "id": "df1ea83e",
   "metadata": {
    "execution": {
     "iopub.execute_input": "2021-08-23T16:25:34.966155Z",
     "iopub.status.busy": "2021-08-23T16:25:34.965513Z",
     "iopub.status.idle": "2021-08-23T16:25:35.104384Z",
     "shell.execute_reply": "2021-08-23T16:25:35.104853Z",
     "shell.execute_reply.started": "2021-08-23T12:05:11.008573Z"
    },
    "papermill": {
     "duration": 0.173195,
     "end_time": "2021-08-23T16:25:35.105019",
     "exception": false,
     "start_time": "2021-08-23T16:25:34.931824",
     "status": "completed"
    },
    "tags": []
   },
   "outputs": [
    {
     "data": {
      "text/html": [
       "<div>\n",
       "<style scoped>\n",
       "    .dataframe tbody tr th:only-of-type {\n",
       "        vertical-align: middle;\n",
       "    }\n",
       "\n",
       "    .dataframe tbody tr th {\n",
       "        vertical-align: top;\n",
       "    }\n",
       "\n",
       "    .dataframe thead th {\n",
       "        text-align: right;\n",
       "    }\n",
       "</style>\n",
       "<table border=\"1\" class=\"dataframe\">\n",
       "  <thead>\n",
       "    <tr style=\"text-align: right;\">\n",
       "      <th></th>\n",
       "      <th>sequence</th>\n",
       "      <th>class</th>\n",
       "    </tr>\n",
       "  </thead>\n",
       "  <tbody>\n",
       "    <tr>\n",
       "      <th>0</th>\n",
       "      <td>ATGCCCCAACTAAATACTACCGTATGGCCCACCATAATTACCCCCA...</td>\n",
       "      <td>4</td>\n",
       "    </tr>\n",
       "    <tr>\n",
       "      <th>1</th>\n",
       "      <td>ATGAACGAAAATCTGTTCGCTTCATTCATTGCCCCCACAATCCTAG...</td>\n",
       "      <td>4</td>\n",
       "    </tr>\n",
       "    <tr>\n",
       "      <th>2</th>\n",
       "      <td>ATGTGTGGCATTTGGGCGCTGTTTGGCAGTGATGATTGCCTTTCTG...</td>\n",
       "      <td>3</td>\n",
       "    </tr>\n",
       "    <tr>\n",
       "      <th>3</th>\n",
       "      <td>ATGTGTGGCATTTGGGCGCTGTTTGGCAGTGATGATTGCCTTTCTG...</td>\n",
       "      <td>3</td>\n",
       "    </tr>\n",
       "    <tr>\n",
       "      <th>4</th>\n",
       "      <td>ATGCAACAGCATTTTGAATTTGAATACCAGACCAAAGTGGATGGTG...</td>\n",
       "      <td>3</td>\n",
       "    </tr>\n",
       "  </tbody>\n",
       "</table>\n",
       "</div>"
      ],
      "text/plain": [
       "                                            sequence  class\n",
       "0  ATGCCCCAACTAAATACTACCGTATGGCCCACCATAATTACCCCCA...      4\n",
       "1  ATGAACGAAAATCTGTTCGCTTCATTCATTGCCCCCACAATCCTAG...      4\n",
       "2  ATGTGTGGCATTTGGGCGCTGTTTGGCAGTGATGATTGCCTTTCTG...      3\n",
       "3  ATGTGTGGCATTTGGGCGCTGTTTGGCAGTGATGATTGCCTTTCTG...      3\n",
       "4  ATGCAACAGCATTTTGAATTTGAATACCAGACCAAAGTGGATGGTG...      3"
      ]
     },
     "execution_count": 2,
     "metadata": {},
     "output_type": "execute_result"
    }
   ],
   "source": [
    "humandata = pd.read_table('../input/human-dna-sequences/human_data.txt')\n",
    "humandata.head()"
   ]
  },
  {
   "cell_type": "code",
   "execution_count": 3,
   "id": "64b526a1",
   "metadata": {
    "execution": {
     "iopub.execute_input": "2021-08-23T16:25:35.170648Z",
     "iopub.status.busy": "2021-08-23T16:25:35.169774Z",
     "iopub.status.idle": "2021-08-23T16:25:35.190782Z",
     "shell.execute_reply": "2021-08-23T16:25:35.191279Z",
     "shell.execute_reply.started": "2021-08-23T12:05:30.965279Z"
    },
    "papermill": {
     "duration": 0.055179,
     "end_time": "2021-08-23T16:25:35.191446",
     "exception": false,
     "start_time": "2021-08-23T16:25:35.136267",
     "status": "completed"
    },
    "tags": []
   },
   "outputs": [
    {
     "name": "stdout",
     "output_type": "stream",
     "text": [
      "<class 'pandas.core.frame.DataFrame'>\n",
      "RangeIndex: 4380 entries, 0 to 4379\n",
      "Data columns (total 2 columns):\n",
      " #   Column    Non-Null Count  Dtype \n",
      "---  ------    --------------  ----- \n",
      " 0   sequence  4380 non-null   object\n",
      " 1   class     4380 non-null   int64 \n",
      "dtypes: int64(1), object(1)\n",
      "memory usage: 68.6+ KB\n"
     ]
    }
   ],
   "source": [
    "humandata.info()"
   ]
  },
  {
   "cell_type": "code",
   "execution_count": 4,
   "id": "e08c746f",
   "metadata": {
    "execution": {
     "iopub.execute_input": "2021-08-23T16:25:35.267278Z",
     "iopub.status.busy": "2021-08-23T16:25:35.266525Z",
     "iopub.status.idle": "2021-08-23T16:25:35.471483Z",
     "shell.execute_reply": "2021-08-23T16:25:35.471975Z",
     "shell.execute_reply.started": "2021-08-23T12:05:31.220383Z"
    },
    "papermill": {
     "duration": 0.249492,
     "end_time": "2021-08-23T16:25:35.472144",
     "exception": false,
     "start_time": "2021-08-23T16:25:35.222652",
     "status": "completed"
    },
    "tags": []
   },
   "outputs": [
    {
     "data": {
      "image/png": "[encoded data removed]",
      "text/plain": [
       "<Figure size 432x288 with 1 Axes>"
      ]
     },
     "metadata": {},
     "output_type": "display_data"
    }
   ],
   "source": [
    "## 4380 Sequences are there\n",
    "humandata['class'].value_counts().sort_index().plot.bar()\n",
    "plt.title(\"Gene Family\")\n",
    "plt.show()"
   ]
  },
  {
   "cell_type": "code",
   "execution_count": 5,
   "id": "e9fb89f5",
   "metadata": {
    "execution": {
     "iopub.execute_input": "2021-08-23T16:25:35.537692Z",
     "iopub.status.busy": "2021-08-23T16:25:35.537109Z",
     "iopub.status.idle": "2021-08-23T16:25:35.547769Z",
     "shell.execute_reply": "2021-08-23T16:25:35.548195Z",
     "shell.execute_reply.started": "2021-08-23T12:05:31.522108Z"
    },
    "papermill": {
     "duration": 0.04494,
     "end_time": "2021-08-23T16:25:35.548349",
     "exception": false,
     "start_time": "2021-08-23T16:25:35.503409",
     "status": "completed"
    },
    "tags": []
   },
   "outputs": [
    {
     "data": {
      "image/png": "[encoded data removed]",
      "text/plain": [
       "<IPython.core.display.Image object>"
      ]
     },
     "execution_count": 5,
     "metadata": {},
     "output_type": "execute_result"
    }
   ],
   "source": [
    "Image('../input/human-dna-sequences/_results_.png')"
   ]
  },
  {
   "cell_type": "markdown",
   "id": "5a49ff06",
   "metadata": {
    "papermill": {
     "duration": 0.031821,
     "end_time": "2021-08-23T16:25:35.612710",
     "exception": false,
     "start_time": "2021-08-23T16:25:35.580889",
     "status": "completed"
    },
    "tags": []
   },
   "source": [
    "From the the Target value distribution analysis ,We can infer that the data is somewhat skewed (Transciption factor is almost double the times of Tyrosine kinase).\n",
    "\n",
    "For now ,Lets proceed with normal techniques and if they dont provide us good results them we can consider the sampling techniques like Oversampling,Undersampling,SMOTE for balancing the number of samples of different gene family in the target "
   ]
  },
  {
   "cell_type": "code",
   "execution_count": 6,
   "id": "1b1b3711",
   "metadata": {
    "execution": {
     "iopub.execute_input": "2021-08-23T16:25:35.679443Z",
     "iopub.status.busy": "2021-08-23T16:25:35.678912Z",
     "iopub.status.idle": "2021-08-23T16:25:35.685099Z",
     "shell.execute_reply": "2021-08-23T16:25:35.685561Z",
     "shell.execute_reply.started": "2021-08-23T12:05:32.67914Z"
    },
    "papermill": {
     "duration": 0.041066,
     "end_time": "2021-08-23T16:25:35.685715",
     "exception": false,
     "start_time": "2021-08-23T16:25:35.644649",
     "status": "completed"
    },
    "tags": []
   },
   "outputs": [
    {
     "data": {
      "text/plain": [
       "'ATGCCCCAACTAAATACTACCGTATGGCCCACCATAATTACCCCCATACTCCTTACACTATTCCTCATCACCCAACTAAAAATATTAAACACAAACTACCACCTACCTCCCTCACCAAAGCCCATAAAAATAAAAAATTATAACAAACCCTGAGAACCAAAATGAACGAAAATCTGTTCGCTTCATTCATTGCCCCCACAATCCTAG'"
      ]
     },
     "metadata": {},
     "output_type": "display_data"
    },
    {
     "name": "stdout",
     "output_type": "stream",
     "text": [
      "length of Sequence 1 : 207\n"
     ]
    }
   ],
   "source": [
    "display(humandata[\"sequence\"][0])\n",
    "\n",
    "print(f'length of Sequence 1 : {len(humandata[\"sequence\"][0])}')"
   ]
  },
  {
   "cell_type": "markdown",
   "id": "a7b4dfae",
   "metadata": {
    "papermill": {
     "duration": 0.03237,
     "end_time": "2021-08-23T16:25:35.750670",
     "exception": false,
     "start_time": "2021-08-23T16:25:35.718300",
     "status": "completed"
    },
    "tags": []
   },
   "source": [
    "#### Now Lets use the Bio Library and explore its basic capabilites"
   ]
  },
  {
   "cell_type": "code",
   "execution_count": 7,
   "id": "ca6fc821",
   "metadata": {
    "execution": {
     "iopub.execute_input": "2021-08-23T16:25:35.819096Z",
     "iopub.status.busy": "2021-08-23T16:25:35.818557Z",
     "iopub.status.idle": "2021-08-23T16:25:35.866005Z",
     "shell.execute_reply": "2021-08-23T16:25:35.865257Z",
     "shell.execute_reply.started": "2021-08-23T12:05:34.200038Z"
    },
    "papermill": {
     "duration": 0.082837,
     "end_time": "2021-08-23T16:25:35.866208",
     "exception": false,
     "start_time": "2021-08-23T16:25:35.783371",
     "status": "completed"
    },
    "tags": []
   },
   "outputs": [
    {
     "name": "stdout",
     "output_type": "stream",
     "text": [
      "ATGCCCCAACTAAATACTACCGTATGGCCCACCATAATTACCCCCATACTCCTTACACTATTCCTCATCACCCAACTAAAAATATTAAACACAAACTACCACCTACCTCCCTCACCAAAGCCCATAAAAATAAAAAATTATAACAAACCCTGAGAACCAAAATGAACGAAAATCTGTTCGCTTCATTCATTGCCCCCACAATCCTAG\n"
     ]
    }
   ],
   "source": [
    "from Bio.Seq import Seq\n",
    "my_seq = Seq(humandata[\"sequence\"][0])\n",
    "print(my_seq)"
   ]
  },
  {
   "cell_type": "code",
   "execution_count": 8,
   "id": "c062db31",
   "metadata": {
    "execution": {
     "iopub.execute_input": "2021-08-23T16:25:35.937532Z",
     "iopub.status.busy": "2021-08-23T16:25:35.936928Z",
     "iopub.status.idle": "2021-08-23T16:25:35.939354Z",
     "shell.execute_reply": "2021-08-23T16:25:35.939828Z",
     "shell.execute_reply.started": "2021-08-23T12:05:34.648121Z"
    },
    "papermill": {
     "duration": 0.040679,
     "end_time": "2021-08-23T16:25:35.939986",
     "exception": false,
     "start_time": "2021-08-23T16:25:35.899307",
     "status": "completed"
    },
    "tags": []
   },
   "outputs": [
    {
     "name": "stdout",
     "output_type": "stream",
     "text": [
      " Complement : TACGGGGTTGATTTATGATGGCATACCGGGTGGTATTAATGGGGGTATGAGGAATGTGATAAGGAGTAGTGGGTTGATTTTTATAATTTGTGTTTGATGGTGGATGGAGGGAGTGGTTTCGGGTATTTTTATTTTTTAATATTGTTTGGGACTCTTGGTTTTACTTGCTTTTAGACAAGCGAAGTAAGTAACGGGGGTGTTAGGATC \n",
      "\n",
      "Reverse Complement :  CTAGGATTGTGGGGGCAATGAATGAAGCGAACAGATTTTCGTTCATTTTGGTTCTCAGGGTTTGTTATAATTTTTTATTTTTATGGGCTTTGGTGAGGGAGGTAGGTGGTAGTTTGTGTTTAATATTTTTAGTTGGGTGATGAGGAATAGTGTAAGGAGTATGGGGGTAATTATGGTGGGCCATACGGTAGTATTTAGTTGGGGCAT \n"
     ]
    }
   ],
   "source": [
    "print(f\" Complement : {my_seq.complement()} \\n\")\n",
    "print(f\"Reverse Complement :  {my_seq.reverse_complement()} \" )"
   ]
  },
  {
   "cell_type": "markdown",
   "id": "18f8053b",
   "metadata": {
    "papermill": {
     "duration": 0.03329,
     "end_time": "2021-08-23T16:25:36.006565",
     "exception": false,
     "start_time": "2021-08-23T16:25:35.973275",
     "status": "completed"
    },
    "tags": []
   },
   "source": [
    "#### The GC Content of a DNA sequence is important and relates to how stable the molecule will be"
   ]
  },
  {
   "cell_type": "code",
   "execution_count": 9,
   "id": "ac90b2cc",
   "metadata": {
    "execution": {
     "iopub.execute_input": "2021-08-23T16:25:36.076117Z",
     "iopub.status.busy": "2021-08-23T16:25:36.075540Z",
     "iopub.status.idle": "2021-08-23T16:25:36.083021Z",
     "shell.execute_reply": "2021-08-23T16:25:36.082419Z",
     "shell.execute_reply.started": "2021-08-23T12:05:35.640289Z"
    },
    "papermill": {
     "duration": 0.043387,
     "end_time": "2021-08-23T16:25:36.083157",
     "exception": false,
     "start_time": "2021-08-23T16:25:36.039770",
     "status": "completed"
    },
    "tags": []
   },
   "outputs": [
    {
     "name": "stdout",
     "output_type": "stream",
     "text": [
      "GC% :\t39.61352657004831\n"
     ]
    }
   ],
   "source": [
    "from Bio.SeqUtils import GC\n",
    "print(\"GC% :\\t\" + str(GC(my_seq)))"
   ]
  },
  {
   "cell_type": "code",
   "execution_count": 10,
   "id": "4418ca80",
   "metadata": {
    "execution": {
     "iopub.execute_input": "2021-08-23T16:25:36.158774Z",
     "iopub.status.busy": "2021-08-23T16:25:36.158185Z",
     "iopub.status.idle": "2021-08-23T16:25:36.160163Z",
     "shell.execute_reply": "2021-08-23T16:25:36.160578Z",
     "shell.execute_reply.started": "2021-08-23T12:05:36.426455Z"
    },
    "papermill": {
     "duration": 0.043427,
     "end_time": "2021-08-23T16:25:36.160750",
     "exception": false,
     "start_time": "2021-08-23T16:25:36.117323",
     "status": "completed"
    },
    "tags": []
   },
   "outputs": [],
   "source": [
    "humandata[\"length\"] = humandata.sequence.apply(lambda x : len(x))  # finding the length of each DNA Sequence"
   ]
  },
  {
   "cell_type": "code",
   "execution_count": 11,
   "id": "f03f5a8a",
   "metadata": {
    "execution": {
     "iopub.execute_input": "2021-08-23T16:25:36.231137Z",
     "iopub.status.busy": "2021-08-23T16:25:36.230511Z",
     "iopub.status.idle": "2021-08-23T16:25:36.555686Z",
     "shell.execute_reply": "2021-08-23T16:25:36.555160Z",
     "shell.execute_reply.started": "2021-08-23T12:07:02.26197Z"
    },
    "papermill": {
     "duration": 0.361451,
     "end_time": "2021-08-23T16:25:36.555861",
     "exception": false,
     "start_time": "2021-08-23T16:25:36.194410",
     "status": "completed"
    },
    "tags": []
   },
   "outputs": [
    {
     "data": {
      "image/png": "[encoded data removed]",
      "text/plain": [
       "<Figure size 576x576 with 1 Axes>"
      ]
     },
     "metadata": {},
     "output_type": "display_data"
    }
   ],
   "source": [
    "plt.figure(figsize=(8,8));\n",
    "plt.hist(humandata[\"length\"],bins=50)\n",
    "plt.title(\"Distribution of Length of DNA Sequence\");"
   ]
  },
  {
   "cell_type": "markdown",
   "id": "8f1f31b9",
   "metadata": {
    "papermill": {
     "duration": 0.03346,
     "end_time": "2021-08-23T16:25:36.623821",
     "exception": false,
     "start_time": "2021-08-23T16:25:36.590361",
     "status": "completed"
    },
    "tags": []
   },
   "source": [
    "Length of the Sequence varies alot .we have to find a way to make it as constant so that we can apply ML Techniques to this problem\n",
    "\n",
    "We can use K-mer method to rectify this issue. We can take a long biological sequence and break it down into k-mer length overlapping “words”. For example, if we use words of length 6 (hexamers), “ATGCATGCA” becomes: ‘ATGCAT’, ‘TGCATG’, ‘GCATGC’, ‘CATGCA’. Hence our example sequence is broken down into 4 hexamer words.\n",
    "\n",
    "In genomics, we refer to these types of manipulations as \"**k-mer counting**\", or counting the occurances of each possible k-mer sequence."
   ]
  },
  {
   "cell_type": "code",
   "execution_count": 12,
   "id": "a06a4fc2",
   "metadata": {
    "execution": {
     "iopub.execute_input": "2021-08-23T16:25:36.697481Z",
     "iopub.status.busy": "2021-08-23T16:25:36.696881Z",
     "iopub.status.idle": "2021-08-23T16:25:36.699600Z",
     "shell.execute_reply": "2021-08-23T16:25:36.699178Z",
     "shell.execute_reply.started": "2021-08-23T12:07:05.249016Z"
    },
    "papermill": {
     "duration": 0.042057,
     "end_time": "2021-08-23T16:25:36.699748",
     "exception": false,
     "start_time": "2021-08-23T16:25:36.657691",
     "status": "completed"
    },
    "tags": []
   },
   "outputs": [],
   "source": [
    "def getKmers(sequence, size=6):\n",
    "    return [sequence[x:x+size].upper() for x in range(len(sequence) - size + 1)]"
   ]
  },
  {
   "cell_type": "code",
   "execution_count": 13,
   "id": "e8794c41",
   "metadata": {
    "execution": {
     "iopub.execute_input": "2021-08-23T16:25:36.772831Z",
     "iopub.status.busy": "2021-08-23T16:25:36.772182Z",
     "iopub.status.idle": "2021-08-23T16:25:38.281104Z",
     "shell.execute_reply": "2021-08-23T16:25:38.280385Z",
     "shell.execute_reply.started": "2021-08-23T12:07:06.343814Z"
    },
    "papermill": {
     "duration": 1.547358,
     "end_time": "2021-08-23T16:25:38.281268",
     "exception": false,
     "start_time": "2021-08-23T16:25:36.733910",
     "status": "completed"
    },
    "tags": []
   },
   "outputs": [],
   "source": [
    "#Now we can convert our training data sequences into short overlapping k-mers of legth 6.\n",
    "\n",
    "humandata['words'] = humandata.apply(lambda x: getKmers(x['sequence']), axis=1)"
   ]
  },
  {
   "cell_type": "code",
   "execution_count": 14,
   "id": "2d7b82f4",
   "metadata": {
    "execution": {
     "iopub.execute_input": "2021-08-23T16:25:38.372992Z",
     "iopub.status.busy": "2021-08-23T16:25:38.372033Z",
     "iopub.status.idle": "2021-08-23T16:25:38.376291Z",
     "shell.execute_reply": "2021-08-23T16:25:38.375710Z",
     "shell.execute_reply.started": "2021-08-23T12:07:08.337779Z"
    },
    "papermill": {
     "duration": 0.056739,
     "end_time": "2021-08-23T16:25:38.376421",
     "exception": false,
     "start_time": "2021-08-23T16:25:38.319682",
     "status": "completed"
    },
    "tags": []
   },
   "outputs": [
    {
     "data": {
      "text/html": [
       "<div>\n",
       "<style scoped>\n",
       "    .dataframe tbody tr th:only-of-type {\n",
       "        vertical-align: middle;\n",
       "    }\n",
       "\n",
       "    .dataframe tbody tr th {\n",
       "        vertical-align: top;\n",
       "    }\n",
       "\n",
       "    .dataframe thead th {\n",
       "        text-align: right;\n",
       "    }\n",
       "</style>\n",
       "<table border=\"1\" class=\"dataframe\">\n",
       "  <thead>\n",
       "    <tr style=\"text-align: right;\">\n",
       "      <th></th>\n",
       "      <th>sequence</th>\n",
       "      <th>class</th>\n",
       "      <th>length</th>\n",
       "      <th>words</th>\n",
       "    </tr>\n",
       "  </thead>\n",
       "  <tbody>\n",
       "    <tr>\n",
       "      <th>0</th>\n",
       "      <td>ATGCCCCAACTAAATACTACCGTATGGCCCACCATAATTACCCCCA...</td>\n",
       "      <td>4</td>\n",
       "      <td>207</td>\n",
       "      <td>[ATGCCC, TGCCCC, GCCCCA, CCCCAA, CCCAAC, CCAAC...</td>\n",
       "    </tr>\n",
       "    <tr>\n",
       "      <th>1</th>\n",
       "      <td>ATGAACGAAAATCTGTTCGCTTCATTCATTGCCCCCACAATCCTAG...</td>\n",
       "      <td>4</td>\n",
       "      <td>681</td>\n",
       "      <td>[ATGAAC, TGAACG, GAACGA, AACGAA, ACGAAA, CGAAA...</td>\n",
       "    </tr>\n",
       "    <tr>\n",
       "      <th>2</th>\n",
       "      <td>ATGTGTGGCATTTGGGCGCTGTTTGGCAGTGATGATTGCCTTTCTG...</td>\n",
       "      <td>3</td>\n",
       "      <td>1686</td>\n",
       "      <td>[ATGTGT, TGTGTG, GTGTGG, TGTGGC, GTGGCA, TGGCA...</td>\n",
       "    </tr>\n",
       "    <tr>\n",
       "      <th>3</th>\n",
       "      <td>ATGTGTGGCATTTGGGCGCTGTTTGGCAGTGATGATTGCCTTTCTG...</td>\n",
       "      <td>3</td>\n",
       "      <td>1206</td>\n",
       "      <td>[ATGTGT, TGTGTG, GTGTGG, TGTGGC, GTGGCA, TGGCA...</td>\n",
       "    </tr>\n",
       "    <tr>\n",
       "      <th>4</th>\n",
       "      <td>ATGCAACAGCATTTTGAATTTGAATACCAGACCAAAGTGGATGGTG...</td>\n",
       "      <td>3</td>\n",
       "      <td>1437</td>\n",
       "      <td>[ATGCAA, TGCAAC, GCAACA, CAACAG, AACAGC, ACAGC...</td>\n",
       "    </tr>\n",
       "  </tbody>\n",
       "</table>\n",
       "</div>"
      ],
      "text/plain": [
       "                                            sequence  class  length  \\\n",
       "0  ATGCCCCAACTAAATACTACCGTATGGCCCACCATAATTACCCCCA...      4     207   \n",
       "1  ATGAACGAAAATCTGTTCGCTTCATTCATTGCCCCCACAATCCTAG...      4     681   \n",
       "2  ATGTGTGGCATTTGGGCGCTGTTTGGCAGTGATGATTGCCTTTCTG...      3    1686   \n",
       "3  ATGTGTGGCATTTGGGCGCTGTTTGGCAGTGATGATTGCCTTTCTG...      3    1206   \n",
       "4  ATGCAACAGCATTTTGAATTTGAATACCAGACCAAAGTGGATGGTG...      3    1437   \n",
       "\n",
       "                                               words  \n",
       "0  [ATGCCC, TGCCCC, GCCCCA, CCCCAA, CCCAAC, CCAAC...  \n",
       "1  [ATGAAC, TGAACG, GAACGA, AACGAA, ACGAAA, CGAAA...  \n",
       "2  [ATGTGT, TGTGTG, GTGTGG, TGTGGC, GTGGCA, TGGCA...  \n",
       "3  [ATGTGT, TGTGTG, GTGTGG, TGTGGC, GTGGCA, TGGCA...  \n",
       "4  [ATGCAA, TGCAAC, GCAACA, CAACAG, AACAGC, ACAGC...  "
      ]
     },
     "execution_count": 14,
     "metadata": {},
     "output_type": "execute_result"
    }
   ],
   "source": [
    "humandata.head()"
   ]
  },
  {
   "cell_type": "markdown",
   "id": "9f44e4c5",
   "metadata": {
    "papermill": {
     "duration": 0.035486,
     "end_time": "2021-08-23T16:25:38.447843",
     "exception": false,
     "start_time": "2021-08-23T16:25:38.412357",
     "status": "completed"
    },
    "tags": []
   },
   "source": [
    "### Since we are going to use scikit-learn natural language processing tools to do the k-mer counting, we need to now convert the lists of k-mers for each gene into string sentences of words that the count vectorizer can use."
   ]
  },
  {
   "cell_type": "code",
   "execution_count": 15,
   "id": "dddc6e3c",
   "metadata": {
    "execution": {
     "iopub.execute_input": "2021-08-23T16:25:38.559232Z",
     "iopub.status.busy": "2021-08-23T16:25:38.553467Z",
     "iopub.status.idle": "2021-08-23T16:25:38.634762Z",
     "shell.execute_reply": "2021-08-23T16:25:38.634117Z",
     "shell.execute_reply.started": "2021-08-23T12:08:17.881083Z"
    },
    "papermill": {
     "duration": 0.151571,
     "end_time": "2021-08-23T16:25:38.634902",
     "exception": false,
     "start_time": "2021-08-23T16:25:38.483331",
     "status": "completed"
    },
    "tags": []
   },
   "outputs": [],
   "source": [
    "#We are now going to Convert the words into string and then apply Count Vectorizer\n",
    "\n",
    "humandata[\"in_string\"] =humandata[\"words\"].apply(lambda x:  ' '.join(x))"
   ]
  },
  {
   "cell_type": "code",
   "execution_count": 16,
   "id": "48822f88",
   "metadata": {
    "execution": {
     "iopub.execute_input": "2021-08-23T16:25:38.741488Z",
     "iopub.status.busy": "2021-08-23T16:25:38.740869Z",
     "iopub.status.idle": "2021-08-23T16:25:38.747467Z",
     "shell.execute_reply": "2021-08-23T16:25:38.747010Z",
     "shell.execute_reply.started": "2021-08-23T12:08:19.065565Z"
    },
    "papermill": {
     "duration": 0.077531,
     "end_time": "2021-08-23T16:25:38.747604",
     "exception": false,
     "start_time": "2021-08-23T16:25:38.670073",
     "status": "completed"
    },
    "tags": []
   },
   "outputs": [
    {
     "data": {
      "text/html": [
       "<div>\n",
       "<style scoped>\n",
       "    .dataframe tbody tr th:only-of-type {\n",
       "        vertical-align: middle;\n",
       "    }\n",
       "\n",
       "    .dataframe tbody tr th {\n",
       "        vertical-align: top;\n",
       "    }\n",
       "\n",
       "    .dataframe thead th {\n",
       "        text-align: right;\n",
       "    }\n",
       "</style>\n",
       "<table border=\"1\" class=\"dataframe\">\n",
       "  <thead>\n",
       "    <tr style=\"text-align: right;\">\n",
       "      <th></th>\n",
       "      <th>words</th>\n",
       "      <th>in_string</th>\n",
       "    </tr>\n",
       "  </thead>\n",
       "  <tbody>\n",
       "    <tr>\n",
       "      <th>0</th>\n",
       "      <td>[ATGCCC, TGCCCC, GCCCCA, CCCCAA, CCCAAC, CCAAC...</td>\n",
       "      <td>ATGCCC TGCCCC GCCCCA CCCCAA CCCAAC CCAACT CAAC...</td>\n",
       "    </tr>\n",
       "    <tr>\n",
       "      <th>1</th>\n",
       "      <td>[ATGAAC, TGAACG, GAACGA, AACGAA, ACGAAA, CGAAA...</td>\n",
       "      <td>ATGAAC TGAACG GAACGA AACGAA ACGAAA CGAAAA GAAA...</td>\n",
       "    </tr>\n",
       "    <tr>\n",
       "      <th>2</th>\n",
       "      <td>[ATGTGT, TGTGTG, GTGTGG, TGTGGC, GTGGCA, TGGCA...</td>\n",
       "      <td>ATGTGT TGTGTG GTGTGG TGTGGC GTGGCA TGGCAT GGCA...</td>\n",
       "    </tr>\n",
       "    <tr>\n",
       "      <th>3</th>\n",
       "      <td>[ATGTGT, TGTGTG, GTGTGG, TGTGGC, GTGGCA, TGGCA...</td>\n",
       "      <td>ATGTGT TGTGTG GTGTGG TGTGGC GTGGCA TGGCAT GGCA...</td>\n",
       "    </tr>\n",
       "    <tr>\n",
       "      <th>4</th>\n",
       "      <td>[ATGCAA, TGCAAC, GCAACA, CAACAG, AACAGC, ACAGC...</td>\n",
       "      <td>ATGCAA TGCAAC GCAACA CAACAG AACAGC ACAGCA CAGC...</td>\n",
       "    </tr>\n",
       "    <tr>\n",
       "      <th>...</th>\n",
       "      <td>...</td>\n",
       "      <td>...</td>\n",
       "    </tr>\n",
       "    <tr>\n",
       "      <th>4375</th>\n",
       "      <td>[ATGGAA, TGGAAG, GGAAGA, GAAGAT, AAGATT, AGATT...</td>\n",
       "      <td>ATGGAA TGGAAG GGAAGA GAAGAT AAGATT AGATTT GATT...</td>\n",
       "    </tr>\n",
       "    <tr>\n",
       "      <th>4376</th>\n",
       "      <td>[ATGCAG, TGCAGT, GCAGTC, CAGTCC, AGTCCT, GTCCT...</td>\n",
       "      <td>ATGCAG TGCAGT GCAGTC CAGTCC AGTCCT GTCCTT TCCT...</td>\n",
       "    </tr>\n",
       "    <tr>\n",
       "      <th>4377</th>\n",
       "      <td>[ATGCAG, TGCAGT, GCAGTC, CAGTCC, AGTCCT, GTCCT...</td>\n",
       "      <td>ATGCAG TGCAGT GCAGTC CAGTCC AGTCCT GTCCTT TCCT...</td>\n",
       "    </tr>\n",
       "    <tr>\n",
       "      <th>4378</th>\n",
       "      <td>[ATGGGG, TGGGGC, GGGGCA, GGGCAC, GGCACC, GCACC...</td>\n",
       "      <td>ATGGGG TGGGGC GGGGCA GGGCAC GGCACC GCACCT CACC...</td>\n",
       "    </tr>\n",
       "    <tr>\n",
       "      <th>4379</th>\n",
       "      <td>[ATGCAG, TGCAGT, GCAGTC, CAGTCC, AGTCCT, GTCCT...</td>\n",
       "      <td>ATGCAG TGCAGT GCAGTC CAGTCC AGTCCT GTCCTT TCCT...</td>\n",
       "    </tr>\n",
       "  </tbody>\n",
       "</table>\n",
       "<p>4380 rows × 2 columns</p>\n",
       "</div>"
      ],
      "text/plain": [
       "                                                  words  \\\n",
       "0     [ATGCCC, TGCCCC, GCCCCA, CCCCAA, CCCAAC, CCAAC...   \n",
       "1     [ATGAAC, TGAACG, GAACGA, AACGAA, ACGAAA, CGAAA...   \n",
       "2     [ATGTGT, TGTGTG, GTGTGG, TGTGGC, GTGGCA, TGGCA...   \n",
       "3     [ATGTGT, TGTGTG, GTGTGG, TGTGGC, GTGGCA, TGGCA...   \n",
       "4     [ATGCAA, TGCAAC, GCAACA, CAACAG, AACAGC, ACAGC...   \n",
       "...                                                 ...   \n",
       "4375  [ATGGAA, TGGAAG, GGAAGA, GAAGAT, AAGATT, AGATT...   \n",
       "4376  [ATGCAG, TGCAGT, GCAGTC, CAGTCC, AGTCCT, GTCCT...   \n",
       "4377  [ATGCAG, TGCAGT, GCAGTC, CAGTCC, AGTCCT, GTCCT...   \n",
       "4378  [ATGGGG, TGGGGC, GGGGCA, GGGCAC, GGCACC, GCACC...   \n",
       "4379  [ATGCAG, TGCAGT, GCAGTC, CAGTCC, AGTCCT, GTCCT...   \n",
       "\n",
       "                                              in_string  \n",
       "0     ATGCCC TGCCCC GCCCCA CCCCAA CCCAAC CCAACT CAAC...  \n",
       "1     ATGAAC TGAACG GAACGA AACGAA ACGAAA CGAAAA GAAA...  \n",
       "2     ATGTGT TGTGTG GTGTGG TGTGGC GTGGCA TGGCAT GGCA...  \n",
       "3     ATGTGT TGTGTG GTGTGG TGTGGC GTGGCA TGGCAT GGCA...  \n",
       "4     ATGCAA TGCAAC GCAACA CAACAG AACAGC ACAGCA CAGC...  \n",
       "...                                                 ...  \n",
       "4375  ATGGAA TGGAAG GGAAGA GAAGAT AAGATT AGATTT GATT...  \n",
       "4376  ATGCAG TGCAGT GCAGTC CAGTCC AGTCCT GTCCTT TCCT...  \n",
       "4377  ATGCAG TGCAGT GCAGTC CAGTCC AGTCCT GTCCTT TCCT...  \n",
       "4378  ATGGGG TGGGGC GGGGCA GGGCAC GGCACC GCACCT CACC...  \n",
       "4379  ATGCAG TGCAGT GCAGTC CAGTCC AGTCCT GTCCTT TCCT...  \n",
       "\n",
       "[4380 rows x 2 columns]"
      ]
     },
     "execution_count": 16,
     "metadata": {},
     "output_type": "execute_result"
    }
   ],
   "source": [
    "humandata[[\"words\",\"in_string\"]]"
   ]
  },
  {
   "cell_type": "code",
   "execution_count": 17,
   "id": "6923e79d",
   "metadata": {
    "execution": {
     "iopub.execute_input": "2021-08-23T16:25:38.824989Z",
     "iopub.status.busy": "2021-08-23T16:25:38.824361Z",
     "iopub.status.idle": "2021-08-23T16:25:38.827090Z",
     "shell.execute_reply": "2021-08-23T16:25:38.826496Z",
     "shell.execute_reply.started": "2021-08-23T12:08:20.181072Z"
    },
    "papermill": {
     "duration": 0.043841,
     "end_time": "2021-08-23T16:25:38.827227",
     "exception": false,
     "start_time": "2021-08-23T16:25:38.783386",
     "status": "completed"
    },
    "tags": []
   },
   "outputs": [],
   "source": [
    "y=humandata.loc[:,'class'].values"
   ]
  },
  {
   "cell_type": "code",
   "execution_count": 18,
   "id": "1e2b4318",
   "metadata": {
    "execution": {
     "iopub.execute_input": "2021-08-23T16:25:38.902857Z",
     "iopub.status.busy": "2021-08-23T16:25:38.902113Z",
     "iopub.status.idle": "2021-08-23T16:25:47.020324Z",
     "shell.execute_reply": "2021-08-23T16:25:47.019661Z",
     "shell.execute_reply.started": "2021-08-23T12:08:21.760754Z"
    },
    "papermill": {
     "duration": 8.157984,
     "end_time": "2021-08-23T16:25:47.020461",
     "exception": false,
     "start_time": "2021-08-23T16:25:38.862477",
     "status": "completed"
    },
    "tags": []
   },
   "outputs": [],
   "source": [
    "from sklearn.feature_extraction.text import CountVectorizer\n",
    "cv = CountVectorizer(ngram_range=(4,4))\n",
    "X = cv.fit_transform(humandata[\"in_string\"])"
   ]
  },
  {
   "cell_type": "code",
   "execution_count": 19,
   "id": "f82040ff",
   "metadata": {
    "execution": {
     "iopub.execute_input": "2021-08-23T16:25:47.095461Z",
     "iopub.status.busy": "2021-08-23T16:25:47.094795Z",
     "iopub.status.idle": "2021-08-23T16:25:47.098413Z",
     "shell.execute_reply": "2021-08-23T16:25:47.097887Z",
     "shell.execute_reply.started": "2021-08-23T12:08:32.867899Z"
    },
    "papermill": {
     "duration": 0.04288,
     "end_time": "2021-08-23T16:25:47.098537",
     "exception": false,
     "start_time": "2021-08-23T16:25:47.055657",
     "status": "completed"
    },
    "tags": []
   },
   "outputs": [
    {
     "name": "stdout",
     "output_type": "stream",
     "text": [
      "(4380, 232414)\n"
     ]
    }
   ],
   "source": [
    "print(X.shape)"
   ]
  },
  {
   "cell_type": "code",
   "execution_count": 20,
   "id": "47a35e3f",
   "metadata": {
    "execution": {
     "iopub.execute_input": "2021-08-23T16:25:47.174570Z",
     "iopub.status.busy": "2021-08-23T16:25:47.173827Z",
     "iopub.status.idle": "2021-08-23T16:25:47.178854Z",
     "shell.execute_reply": "2021-08-23T16:25:47.178278Z",
     "shell.execute_reply.started": "2021-08-23T12:08:32.877187Z"
    },
    "papermill": {
     "duration": 0.044859,
     "end_time": "2021-08-23T16:25:47.178987",
     "exception": false,
     "start_time": "2021-08-23T16:25:47.134128",
     "status": "completed"
    },
    "tags": []
   },
   "outputs": [
    {
     "name": "stdout",
     "output_type": "stream",
     "text": [
      "atgccc tgcccc gcccca ccccaa : 52803\n",
      "tgcccc gcccca ccccaa cccaac : 207969\n",
      "gcccca ccccaa cccaac ccaact : 136621\n",
      "ccccaa cccaac ccaact caacta : 79202\n",
      "cccaac ccaact caacta aactaa : 78295\n",
      "ccaact caacta aactaa actaaa : 74681\n",
      "caacta aactaa actaaa ctaaat : 60650\n",
      "aactaa actaaa ctaaat taaata : 6563\n",
      "actaaa ctaaat taaata aaatac : 25724\n",
      "ctaaat taaata aaatac aatact : 101750\n",
      "taaata aaatac aatact atacta : 176196\n"
     ]
    }
   ],
   "source": [
    "#This is the Count_Vectorizer's Vocabulary\n",
    "i=0\n",
    "for key,value in cv.vocabulary_.items():\n",
    "    print(f\"{key} : {value}\")\n",
    "    i+=1\n",
    "    if i>10:break"
   ]
  },
  {
   "cell_type": "code",
   "execution_count": 21,
   "id": "31ad9c39",
   "metadata": {
    "execution": {
     "iopub.execute_input": "2021-08-23T16:25:47.255967Z",
     "iopub.status.busy": "2021-08-23T16:25:47.255346Z",
     "iopub.status.idle": "2021-08-23T16:25:47.521927Z",
     "shell.execute_reply": "2021-08-23T16:25:47.521414Z",
     "shell.execute_reply.started": "2021-08-23T12:08:32.890596Z"
    },
    "papermill": {
     "duration": 0.307493,
     "end_time": "2021-08-23T16:25:47.522078",
     "exception": false,
     "start_time": "2021-08-23T16:25:47.214585",
     "status": "completed"
    },
    "tags": []
   },
   "outputs": [],
   "source": [
    "from sklearn.model_selection import StratifiedKFold,cross_val_score,cross_val_predict\n",
    "from sklearn.tree import DecisionTreeClassifier\n",
    "from sklearn.svm import SVC\n",
    "from sklearn.ensemble import RandomForestClassifier\n",
    "from sklearn.naive_bayes import MultinomialNB\n",
    "from sklearn.metrics import *"
   ]
  },
  {
   "cell_type": "code",
   "execution_count": 22,
   "id": "1f1d46c9",
   "metadata": {
    "execution": {
     "iopub.execute_input": "2021-08-23T16:25:47.598721Z",
     "iopub.status.busy": "2021-08-23T16:25:47.597879Z",
     "iopub.status.idle": "2021-08-23T16:25:47.600688Z",
     "shell.execute_reply": "2021-08-23T16:25:47.600166Z",
     "shell.execute_reply.started": "2021-08-23T12:08:33.141031Z"
    },
    "papermill": {
     "duration": 0.042906,
     "end_time": "2021-08-23T16:25:47.600831",
     "exception": false,
     "start_time": "2021-08-23T16:25:47.557925",
     "status": "completed"
    },
    "tags": []
   },
   "outputs": [],
   "source": [
    "def get_metrics(y_test, y_predicted):\n",
    "    accuracy = accuracy_score(y_test, y_predicted)\n",
    "    precision = precision_score(y_test, y_predicted, average='weighted')\n",
    "    recall = recall_score(y_test, y_predicted, average='weighted')\n",
    "    f1 = f1_score(y_test, y_predicted, average='weighted')\n",
    "    return accuracy, precision, recall, f1"
   ]
  },
  {
   "cell_type": "code",
   "execution_count": 23,
   "id": "b761a359",
   "metadata": {
    "execution": {
     "iopub.execute_input": "2021-08-23T16:25:47.678829Z",
     "iopub.status.busy": "2021-08-23T16:25:47.678094Z",
     "iopub.status.idle": "2021-08-23T16:27:59.057277Z",
     "shell.execute_reply": "2021-08-23T16:27:59.056507Z",
     "shell.execute_reply.started": "2021-08-23T12:08:33.149187Z"
    },
    "papermill": {
     "duration": 131.421166,
     "end_time": "2021-08-23T16:27:59.057472",
     "exception": false,
     "start_time": "2021-08-23T16:25:47.636306",
     "status": "completed"
    },
    "tags": []
   },
   "outputs": [
    {
     "name": "stdout",
     "output_type": "stream",
     "text": [
      "Decision Classifier :\n",
      "0 Iteration : Accuracy = 0.80137     F1_Score = 0.80706\n",
      "1 Iteration : Accuracy = 0.83105     F1_Score = 0.83284\n",
      "2 Iteration : Accuracy = 0.81164     F1_Score = 0.81655\n",
      "3 Iteration : Accuracy = 0.81279     F1_Score = 0.81776\n",
      "4 Iteration : Accuracy = 0.80023     F1_Score = 0.80405\n"
     ]
    }
   ],
   "source": [
    "print(\"Decision Classifier :\")\n",
    "for i,(train_index,val_index)  in enumerate(StratifiedKFold(n_splits=5,shuffle=True,random_state=42).split(X,y)):\n",
    "    dt =DecisionTreeClassifier()\n",
    "    dt.fit(X[train_index],y[train_index])\n",
    "    pred=dt.predict(X[val_index])\n",
    "    accuracy, precision, recall, f1 = get_metrics(y[val_index], pred)\n",
    "    print(str(i)+\" Iteration : Accuracy = %.5f     F1_Score = %.5f\" % (accuracy, f1))"
   ]
  },
  {
   "cell_type": "code",
   "execution_count": 24,
   "id": "c3320be1",
   "metadata": {
    "execution": {
     "iopub.execute_input": "2021-08-23T16:27:59.140033Z",
     "iopub.status.busy": "2021-08-23T16:27:59.139426Z",
     "iopub.status.idle": "2021-08-23T16:28:35.474475Z",
     "shell.execute_reply": "2021-08-23T16:28:35.474964Z",
     "shell.execute_reply.started": "2021-08-23T12:10:43.401378Z"
    },
    "papermill": {
     "duration": 36.379634,
     "end_time": "2021-08-23T16:28:35.475134",
     "exception": false,
     "start_time": "2021-08-23T16:27:59.095500",
     "status": "completed"
    },
    "tags": []
   },
   "outputs": [
    {
     "name": "stdout",
     "output_type": "stream",
     "text": [
      "Random Forest Classifier :\n",
      "0 Iteration : Accuracy = 0.91096     F1_Score = 0.91238\n",
      "1 Iteration : Accuracy = 0.91781     F1_Score = 0.91855\n",
      "2 Iteration : Accuracy = 0.88927     F1_Score = 0.89354\n",
      "3 Iteration : Accuracy = 0.91667     F1_Score = 0.91838\n",
      "4 Iteration : Accuracy = 0.89954     F1_Score = 0.90167\n"
     ]
    }
   ],
   "source": [
    "print(\"Random Forest Classifier :\")\n",
    "for i,(train_index,val_index)  in enumerate(StratifiedKFold(n_splits=5,shuffle=True,random_state=42).split(X,y)):\n",
    "    rf = RandomForestClassifier(n_jobs=-1)\n",
    "    rf.fit(X[train_index],y[train_index])\n",
    "    pred=rf.predict(X[val_index])\n",
    "    accuracy, precision, recall, f1 = get_metrics(y[val_index], pred)\n",
    "    print(str(i)+\" Iteration : Accuracy = %.5f     F1_Score = %.5f\" % (accuracy, f1))"
   ]
  },
  {
   "cell_type": "code",
   "execution_count": 25,
   "id": "57747615",
   "metadata": {
    "execution": {
     "iopub.execute_input": "2021-08-23T16:28:35.559094Z",
     "iopub.status.busy": "2021-08-23T16:28:35.558468Z",
     "iopub.status.idle": "2021-08-23T16:28:36.699458Z",
     "shell.execute_reply": "2021-08-23T16:28:36.698934Z",
     "shell.execute_reply.started": "2021-08-23T12:11:19.239814Z"
    },
    "papermill": {
     "duration": 1.18583,
     "end_time": "2021-08-23T16:28:36.699601",
     "exception": false,
     "start_time": "2021-08-23T16:28:35.513771",
     "status": "completed"
    },
    "tags": []
   },
   "outputs": [
    {
     "name": "stdout",
     "output_type": "stream",
     "text": [
      "Naive Bayes Classifier :\n",
      "0 Iteration : Accuracy = 0.98059    F1_Score = 0.98061\n",
      "1 Iteration : Accuracy = 0.98059    F1_Score = 0.98066\n",
      "2 Iteration : Accuracy = 0.97603    F1_Score = 0.97606\n",
      "3 Iteration : Accuracy = 0.97717    F1_Score = 0.97722\n",
      "4 Iteration : Accuracy = 0.97717    F1_Score = 0.97715\n"
     ]
    }
   ],
   "source": [
    "## Used Grid Search to find the best Hyperparameters. \n",
    "print(\"Naive Bayes Classifier :\")\n",
    "for i,(train_index,val_index)  in enumerate(StratifiedKFold(n_splits=5,shuffle=True,random_state=42).split(X,y)):\n",
    "    classifier = MultinomialNB(alpha=0.1)\n",
    "    classifier.fit(X[train_index],y[train_index])\n",
    "    pred=classifier.predict(X[val_index])\n",
    "    accuracy, precision, recall, f1 = get_metrics(y[val_index], pred)\n",
    "    print(str(i)+\" Iteration : Accuracy = %.5f    F1_Score = %.5f\" % (accuracy, f1))"
   ]
  },
  {
   "cell_type": "code",
   "execution_count": 26,
   "id": "a6780c47",
   "metadata": {
    "execution": {
     "iopub.execute_input": "2021-08-23T16:28:36.806938Z",
     "iopub.status.busy": "2021-08-23T16:28:36.801925Z",
     "iopub.status.idle": "2021-08-23T16:28:36.936262Z",
     "shell.execute_reply": "2021-08-23T16:28:36.936690Z",
     "shell.execute_reply.started": "2021-08-23T12:11:20.316534Z"
    },
    "papermill": {
     "duration": 0.197406,
     "end_time": "2021-08-23T16:28:36.936888",
     "exception": false,
     "start_time": "2021-08-23T16:28:36.739482",
     "status": "completed"
    },
    "tags": []
   },
   "outputs": [
    {
     "data": {
      "image/png": "[encoded data removed]",
      "text/plain": [
       "<Figure size 720x360 with 1 Axes>"
      ]
     },
     "metadata": {},
     "output_type": "display_data"
    }
   ],
   "source": [
    "#scores ={\"Naive Bayes\":98.059  ,\"Random Forest\":91.4 ,\"Decision Tree\": 81.5}\n",
    "plt.figure(figsize=(10,5))\n",
    "scores=[\"Naive Bayes\",\"Random Forest\",\"Decision Tree\"]\n",
    "accscore=[98.059,91.4,81.5]\n",
    "f1score=[98.061,91.5,81.1]\n",
    "w=0.3\n",
    "bar1=np.arange(len(scores))\n",
    "bar2=[i+w for i in bar1]\n",
    "\n",
    "plt.bar(bar1,accscore,w,label=\"accuracy\")\n",
    "plt.bar(bar2,f1score,w,label=\"f1score\")\n",
    "plt.xticks(bar1, scores)\n",
    "plt.legend()\n",
    "plt.title(\"Comparision Between Models\")\n",
    "plt.show()\n"
   ]
  },
  {
   "cell_type": "code",
   "execution_count": 27,
   "id": "a9d2f4eb",
   "metadata": {
    "execution": {
     "iopub.execute_input": "2021-08-23T16:28:37.023455Z",
     "iopub.status.busy": "2021-08-23T16:28:37.022508Z",
     "iopub.status.idle": "2021-08-23T16:28:37.308710Z",
     "shell.execute_reply": "2021-08-23T16:28:37.309565Z",
     "shell.execute_reply.started": "2021-08-23T12:11:20.50169Z"
    },
    "papermill": {
     "duration": 0.331437,
     "end_time": "2021-08-23T16:28:37.309813",
     "exception": false,
     "start_time": "2021-08-23T16:28:36.978376",
     "status": "completed"
    },
    "tags": []
   },
   "outputs": [
    {
     "name": "stdout",
     "output_type": "stream",
     "text": [
      "Predicted   0    1   2    3    4   5    6\n",
      "Actual                                   \n",
      "0          99    0   0    0    0   0    3\n",
      "1           0  100   0    0    0   0    6\n",
      "2           0    0  78    0    0   0    0\n",
      "3           0    0   0  122    0   0    3\n",
      "4           0    0   0    0  143   0    6\n",
      "5           0    0   0    0    0  51    0\n",
      "6           0    0   0    0    0   0  265\n"
     ]
    }
   ],
   "source": [
    "from sklearn.model_selection import train_test_split\n",
    "X_train, X_test, y_train, y_test = train_test_split(X, \n",
    "                                                    y, \n",
    "                                                    test_size = 0.20, \n",
    "                                                    random_state=42)\n",
    "nb_ =MultinomialNB(alpha=0.01)\n",
    "nb_.fit(X_train, y_train)\n",
    "\n",
    "y_pred = nb_.predict(X_test)\n",
    "print(pd.crosstab(pd.Series(y_test, name='Actual'), pd.Series(y_pred, name='Predicted')))"
   ]
  },
  {
   "cell_type": "code",
   "execution_count": 28,
   "id": "a047b4e8",
   "metadata": {
    "execution": {
     "iopub.execute_input": "2021-08-23T16:28:37.397469Z",
     "iopub.status.busy": "2021-08-23T16:28:37.396868Z",
     "iopub.status.idle": "2021-08-23T16:28:37.399676Z",
     "shell.execute_reply": "2021-08-23T16:28:37.399244Z",
     "shell.execute_reply.started": "2021-08-23T12:11:20.749056Z"
    },
    "papermill": {
     "duration": 0.047549,
     "end_time": "2021-08-23T16:28:37.399825",
     "exception": false,
     "start_time": "2021-08-23T16:28:37.352276",
     "status": "completed"
    },
    "tags": []
   },
   "outputs": [],
   "source": [
    "import pickle"
   ]
  },
  {
   "cell_type": "code",
   "execution_count": 29,
   "id": "174e3adf",
   "metadata": {
    "execution": {
     "iopub.execute_input": "2021-08-23T16:28:37.489930Z",
     "iopub.status.busy": "2021-08-23T16:28:37.489289Z",
     "iopub.status.idle": "2021-08-23T16:28:37.527288Z",
     "shell.execute_reply": "2021-08-23T16:28:37.526609Z",
     "shell.execute_reply.started": "2021-08-23T12:11:20.75417Z"
    },
    "papermill": {
     "duration": 0.086098,
     "end_time": "2021-08-23T16:28:37.527434",
     "exception": false,
     "start_time": "2021-08-23T16:28:37.441336",
     "status": "completed"
    },
    "tags": []
   },
   "outputs": [],
   "source": [
    "# Saving the model for future use.\n",
    "filename = 'finalized_model.sav'\n",
    "pickle.dump(nb_, open(filename, 'wb'))"
   ]
  },
  {
   "cell_type": "code",
   "execution_count": 30,
   "id": "681c66f6",
   "metadata": {
    "execution": {
     "iopub.execute_input": "2021-08-23T16:28:37.617924Z",
     "iopub.status.busy": "2021-08-23T16:28:37.617256Z",
     "iopub.status.idle": "2021-08-23T16:28:38.067353Z",
     "shell.execute_reply": "2021-08-23T16:28:38.067858Z",
     "shell.execute_reply.started": "2021-08-23T12:11:20.803174Z"
    },
    "papermill": {
     "duration": 0.499678,
     "end_time": "2021-08-23T16:28:38.068027",
     "exception": false,
     "start_time": "2021-08-23T16:28:37.568349",
     "status": "completed"
    },
    "tags": []
   },
   "outputs": [
    {
     "data": {
      "text/plain": [
       "<AxesSubplot:xlabel='Predicted', ylabel='Actual'>"
      ]
     },
     "execution_count": 30,
     "metadata": {},
     "output_type": "execute_result"
    },
    {
     "data": {
      "image/png": "[encoded data removed]",
      "text/plain": [
       "<Figure size 504x432 with 2 Axes>"
      ]
     },
     "metadata": {},
     "output_type": "display_data"
    }
   ],
   "source": [
    "plt.figure(figsize=(7,6))\n",
    "sns.heatmap(pd.crosstab(pd.Series(y_test, name='Actual'), pd.Series(y_pred, name='Predicted')),cmap=\"YlGnBu\",annot=True,fmt='d')"
   ]
  },
  {
   "cell_type": "markdown",
   "id": "12ff4c4a",
   "metadata": {
    "papermill": {
     "duration": 0.04268,
     "end_time": "2021-08-23T16:28:38.153188",
     "exception": false,
     "start_time": "2021-08-23T16:28:38.110508",
     "status": "completed"
    },
    "tags": []
   },
   "source": [
    "##### Using TFIDF Vectorization"
   ]
  },
  {
   "cell_type": "code",
   "execution_count": 31,
   "id": "8599ecc6",
   "metadata": {
    "execution": {
     "iopub.execute_input": "2021-08-23T16:28:38.239369Z",
     "iopub.status.busy": "2021-08-23T16:28:38.238799Z",
     "iopub.status.idle": "2021-08-23T16:28:46.345528Z",
     "shell.execute_reply": "2021-08-23T16:28:46.345034Z",
     "shell.execute_reply.started": "2021-08-23T12:11:21.597457Z"
    },
    "papermill": {
     "duration": 8.150547,
     "end_time": "2021-08-23T16:28:46.345673",
     "exception": false,
     "start_time": "2021-08-23T16:28:38.195126",
     "status": "completed"
    },
    "tags": []
   },
   "outputs": [],
   "source": [
    "from sklearn.feature_extraction.text import TfidfVectorizer\n",
    "tf = TfidfVectorizer(ngram_range=(4,4))\n",
    "X_tf = tf.fit_transform(humandata[\"in_string\"])"
   ]
  },
  {
   "cell_type": "code",
   "execution_count": 32,
   "id": "3b5bb696",
   "metadata": {
    "execution": {
     "iopub.execute_input": "2021-08-23T16:28:46.435890Z",
     "iopub.status.busy": "2021-08-23T16:28:46.435290Z",
     "iopub.status.idle": "2021-08-23T16:28:46.438188Z",
     "shell.execute_reply": "2021-08-23T16:28:46.438602Z",
     "shell.execute_reply.started": "2021-08-23T12:11:33.160656Z"
    },
    "papermill": {
     "duration": 0.051082,
     "end_time": "2021-08-23T16:28:46.438785",
     "exception": false,
     "start_time": "2021-08-23T16:28:46.387703",
     "status": "completed"
    },
    "tags": []
   },
   "outputs": [
    {
     "name": "stdout",
     "output_type": "stream",
     "text": [
      "atgccc tgcccc gcccca ccccaa : 52803\n",
      "tgcccc gcccca ccccaa cccaac : 207969\n",
      "gcccca ccccaa cccaac ccaact : 136621\n",
      "ccccaa cccaac ccaact caacta : 79202\n",
      "cccaac ccaact caacta aactaa : 78295\n",
      "ccaact caacta aactaa actaaa : 74681\n",
      "caacta aactaa actaaa ctaaat : 60650\n",
      "aactaa actaaa ctaaat taaata : 6563\n",
      "actaaa ctaaat taaata aaatac : 25724\n",
      "ctaaat taaata aaatac aatact : 101750\n",
      "taaata aaatac aatact atacta : 176196\n"
     ]
    }
   ],
   "source": [
    "i=0\n",
    "for key,value in tf.vocabulary_.items():\n",
    "    print(f\"{key} : {value}\")\n",
    "    i+=1\n",
    "    if i>10:break"
   ]
  },
  {
   "cell_type": "code",
   "execution_count": 33,
   "id": "eae7c44d",
   "metadata": {
    "execution": {
     "iopub.execute_input": "2021-08-23T16:28:46.526312Z",
     "iopub.status.busy": "2021-08-23T16:28:46.525741Z",
     "iopub.status.idle": "2021-08-23T16:28:47.455500Z",
     "shell.execute_reply": "2021-08-23T16:28:47.455022Z",
     "shell.execute_reply.started": "2021-08-23T12:11:33.170849Z"
    },
    "papermill": {
     "duration": 0.974747,
     "end_time": "2021-08-23T16:28:47.455637",
     "exception": false,
     "start_time": "2021-08-23T16:28:46.480890",
     "status": "completed"
    },
    "tags": []
   },
   "outputs": [
    {
     "name": "stdout",
     "output_type": "stream",
     "text": [
      "Naive Bayes Classifier for TFidf:\n",
      "0 Iteration : Accuracy = 0.98059    F1_Score = 0.98061\n",
      "1 Iteration : Accuracy = 0.98059    F1_Score = 0.98066\n",
      "2 Iteration : Accuracy = 0.97603    F1_Score = 0.97606\n",
      "3 Iteration : Accuracy = 0.97717    F1_Score = 0.97722\n",
      "4 Iteration : Accuracy = 0.97717    F1_Score = 0.97715\n"
     ]
    }
   ],
   "source": [
    "print(\"Naive Bayes Classifier for TFidf:\")\n",
    "for i,(train_index,val_index)  in enumerate(StratifiedKFold(n_splits=5,shuffle=True,random_state=42).split(X_tf,y)):\n",
    "    classifier = MultinomialNB(alpha=0.1)\n",
    "    classifier.fit(X[train_index],y[train_index])\n",
    "    pred=classifier.predict(X[val_index])\n",
    "    accuracy, precision, recall, f1 = get_metrics(y[val_index], pred)\n",
    "    print(str(i)+\" Iteration : Accuracy = %.5f    F1_Score = %.5f\" % (accuracy, f1))"
   ]
  },
  {
   "cell_type": "code",
   "execution_count": 34,
   "id": "a88e1904",
   "metadata": {
    "execution": {
     "iopub.execute_input": "2021-08-23T16:28:47.552660Z",
     "iopub.status.busy": "2021-08-23T16:28:47.552072Z",
     "iopub.status.idle": "2021-08-23T16:29:23.497438Z",
     "shell.execute_reply": "2021-08-23T16:29:23.497921Z",
     "shell.execute_reply.started": "2021-08-23T12:11:34.042362Z"
    },
    "papermill": {
     "duration": 35.998829,
     "end_time": "2021-08-23T16:29:23.498084",
     "exception": false,
     "start_time": "2021-08-23T16:28:47.499255",
     "status": "completed"
    },
    "tags": []
   },
   "outputs": [
    {
     "name": "stdout",
     "output_type": "stream",
     "text": [
      "Random Forest Classifier for Tfidf :\n",
      "0 Iteration : Accuracy = 0.91324     F1_Score = 0.91418\n",
      "1 Iteration : Accuracy = 0.92580     F1_Score = 0.92610\n",
      "2 Iteration : Accuracy = 0.89384     F1_Score = 0.89758\n",
      "3 Iteration : Accuracy = 0.91895     F1_Score = 0.92033\n",
      "4 Iteration : Accuracy = 0.90982     F1_Score = 0.91009\n"
     ]
    }
   ],
   "source": [
    "print(\"Random Forest Classifier for Tfidf :\")\n",
    "for i,(train_index,val_index)  in enumerate(StratifiedKFold(n_splits=5,shuffle=True,random_state=42).split(X_tf,y)):\n",
    "    rf = RandomForestClassifier(n_jobs=-1)\n",
    "    rf.fit(X[train_index],y[train_index])\n",
    "    pred=rf.predict(X[val_index])\n",
    "    accuracy, precision, recall, f1 = get_metrics(y[val_index], pred)\n",
    "    print(str(i)+\" Iteration : Accuracy = %.5f     F1_Score = %.5f\" % (accuracy, f1))"
   ]
  },
  {
   "cell_type": "markdown",
   "id": "6d409d4e",
   "metadata": {
    "papermill": {
     "duration": 0.044205,
     "end_time": "2021-08-23T16:29:23.586974",
     "exception": false,
     "start_time": "2021-08-23T16:29:23.542769",
     "status": "completed"
    },
    "tags": []
   },
   "source": [
    "### Validating our Model on  Chimpanzee data and Dog Data"
   ]
  },
  {
   "cell_type": "code",
   "execution_count": 35,
   "id": "5ff4ab98",
   "metadata": {
    "execution": {
     "iopub.execute_input": "2021-08-23T16:29:23.680988Z",
     "iopub.status.busy": "2021-08-23T16:29:23.680326Z",
     "iopub.status.idle": "2021-08-23T16:29:23.801473Z",
     "shell.execute_reply": "2021-08-23T16:29:23.801036Z",
     "shell.execute_reply.started": "2021-08-23T12:12:10.827603Z"
    },
    "papermill": {
     "duration": 0.16974,
     "end_time": "2021-08-23T16:29:23.801606",
     "exception": false,
     "start_time": "2021-08-23T16:29:23.631866",
     "status": "completed"
    },
    "tags": []
   },
   "outputs": [
    {
     "data": {
      "text/html": [
       "<div>\n",
       "<style scoped>\n",
       "    .dataframe tbody tr th:only-of-type {\n",
       "        vertical-align: middle;\n",
       "    }\n",
       "\n",
       "    .dataframe tbody tr th {\n",
       "        vertical-align: top;\n",
       "    }\n",
       "\n",
       "    .dataframe thead th {\n",
       "        text-align: right;\n",
       "    }\n",
       "</style>\n",
       "<table border=\"1\" class=\"dataframe\">\n",
       "  <thead>\n",
       "    <tr style=\"text-align: right;\">\n",
       "      <th></th>\n",
       "      <th>sequence</th>\n",
       "      <th>class</th>\n",
       "    </tr>\n",
       "  </thead>\n",
       "  <tbody>\n",
       "    <tr>\n",
       "      <th>0</th>\n",
       "      <td>ATGCCACAGCTAGATACATCCACCTGATTTATTATAATCTTTTCAA...</td>\n",
       "      <td>4</td>\n",
       "    </tr>\n",
       "    <tr>\n",
       "      <th>1</th>\n",
       "      <td>ATGAACGAAAATCTATTCGCTTCTTTCGCTGCCCCCTCAATAATAG...</td>\n",
       "      <td>4</td>\n",
       "    </tr>\n",
       "    <tr>\n",
       "      <th>2</th>\n",
       "      <td>ATGGAAACACCCTTCTACGGCGATGAGGCGCTGAGCGGCCTGGGCG...</td>\n",
       "      <td>6</td>\n",
       "    </tr>\n",
       "    <tr>\n",
       "      <th>3</th>\n",
       "      <td>ATGTGCACTAAAATGGAACAGCCCTTCTACCACGACGACTCATACG...</td>\n",
       "      <td>6</td>\n",
       "    </tr>\n",
       "    <tr>\n",
       "      <th>4</th>\n",
       "      <td>ATGAGCCGGCAGCTAAACAGAAGCCAGAACTGCTCCTTCAGTGACG...</td>\n",
       "      <td>0</td>\n",
       "    </tr>\n",
       "  </tbody>\n",
       "</table>\n",
       "</div>"
      ],
      "text/plain": [
       "                                            sequence  class\n",
       "0  ATGCCACAGCTAGATACATCCACCTGATTTATTATAATCTTTTCAA...      4\n",
       "1  ATGAACGAAAATCTATTCGCTTCTTTCGCTGCCCCCTCAATAATAG...      4\n",
       "2  ATGGAAACACCCTTCTACGGCGATGAGGCGCTGAGCGGCCTGGGCG...      6\n",
       "3  ATGTGCACTAAAATGGAACAGCCCTTCTACCACGACGACTCATACG...      6\n",
       "4  ATGAGCCGGCAGCTAAACAGAAGCCAGAACTGCTCCTTCAGTGACG...      0"
      ]
     },
     "execution_count": 35,
     "metadata": {},
     "output_type": "execute_result"
    }
   ],
   "source": [
    "chimp = pd.read_table('../input/chimpanzee-and-dog-dna/chimp_data.txt')\n",
    "dog = pd.read_table('../input/chimpanzee-and-dog-dna/dog_data.txt')\n",
    "chimp.head()\n",
    "dog.head()"
   ]
  },
  {
   "cell_type": "code",
   "execution_count": 36,
   "id": "3426bc9c",
   "metadata": {
    "execution": {
     "iopub.execute_input": "2021-08-23T16:29:23.911305Z",
     "iopub.status.busy": "2021-08-23T16:29:23.901010Z",
     "iopub.status.idle": "2021-08-23T16:29:25.174158Z",
     "shell.execute_reply": "2021-08-23T16:29:25.173642Z",
     "shell.execute_reply.started": "2021-08-23T12:12:10.978941Z"
    },
    "papermill": {
     "duration": 1.327523,
     "end_time": "2021-08-23T16:29:25.174305",
     "exception": false,
     "start_time": "2021-08-23T16:29:23.846782",
     "status": "completed"
    },
    "tags": []
   },
   "outputs": [],
   "source": [
    "chimp['words'] = chimp.apply(lambda x: getKmers(x['sequence']), axis=1)\n",
    "dog['words'] = dog.apply(lambda x: getKmers(x['sequence']), axis=1)"
   ]
  },
  {
   "cell_type": "code",
   "execution_count": 37,
   "id": "c2411102",
   "metadata": {
    "execution": {
     "iopub.execute_input": "2021-08-23T16:29:25.309654Z",
     "iopub.status.busy": "2021-08-23T16:29:25.304816Z",
     "iopub.status.idle": "2021-08-23T16:29:25.385380Z",
     "shell.execute_reply": "2021-08-23T16:29:25.384753Z",
     "shell.execute_reply.started": "2021-08-23T12:12:12.709206Z"
    },
    "papermill": {
     "duration": 0.165556,
     "end_time": "2021-08-23T16:29:25.385510",
     "exception": false,
     "start_time": "2021-08-23T16:29:25.219954",
     "status": "completed"
    },
    "tags": []
   },
   "outputs": [],
   "source": [
    "chimp_texts = list(chimp['words'])\n",
    "for item in range(len(chimp_texts)):\n",
    "    chimp_texts[item] = ' '.join(chimp_texts[item])\n",
    "y_c = chimp.iloc[:, 1].values                       # y_c for chimp\n",
    "\n",
    "dog_texts = list(dog['words'])\n",
    "for item in range(len(dog_texts)):\n",
    "    dog_texts[item] = ' '.join(dog_texts[item])\n",
    "y_d = dog.iloc[:, 1].values        "
   ]
  },
  {
   "cell_type": "code",
   "execution_count": 38,
   "id": "30089aed",
   "metadata": {
    "execution": {
     "iopub.execute_input": "2021-08-23T16:29:25.509087Z",
     "iopub.status.busy": "2021-08-23T16:29:25.503858Z",
     "iopub.status.idle": "2021-08-23T16:29:32.286465Z",
     "shell.execute_reply": "2021-08-23T16:29:32.285942Z",
     "shell.execute_reply.started": "2021-08-23T12:12:12.878976Z"
    },
    "papermill": {
     "duration": 6.856197,
     "end_time": "2021-08-23T16:29:32.286602",
     "exception": false,
     "start_time": "2021-08-23T16:29:25.430405",
     "status": "completed"
    },
    "tags": []
   },
   "outputs": [],
   "source": [
    "X_chimp = cv.transform(chimp_texts)\n",
    "X_dog = cv.transform(dog_texts)"
   ]
  },
  {
   "cell_type": "code",
   "execution_count": 39,
   "id": "ef9cce54",
   "metadata": {
    "execution": {
     "iopub.execute_input": "2021-08-23T16:29:32.382747Z",
     "iopub.status.busy": "2021-08-23T16:29:32.382045Z",
     "iopub.status.idle": "2021-08-23T16:29:32.385429Z",
     "shell.execute_reply": "2021-08-23T16:29:32.385917Z",
     "shell.execute_reply.started": "2021-08-23T12:12:22.339941Z"
    },
    "papermill": {
     "duration": 0.053643,
     "end_time": "2021-08-23T16:29:32.386098",
     "exception": false,
     "start_time": "2021-08-23T16:29:32.332455",
     "status": "completed"
    },
    "tags": []
   },
   "outputs": [
    {
     "name": "stdout",
     "output_type": "stream",
     "text": [
      "(1682, 232414)\n",
      "(820, 232414)\n"
     ]
    }
   ],
   "source": [
    "print(X_chimp.shape)\n",
    "print(X_dog.shape)"
   ]
  },
  {
   "cell_type": "code",
   "execution_count": 40,
   "id": "31d3dad1",
   "metadata": {
    "execution": {
     "iopub.execute_input": "2021-08-23T16:29:32.502453Z",
     "iopub.status.busy": "2021-08-23T16:29:32.501462Z",
     "iopub.status.idle": "2021-08-23T16:29:32.887619Z",
     "shell.execute_reply": "2021-08-23T16:29:32.887149Z",
     "shell.execute_reply.started": "2021-08-23T12:12:22.348166Z"
    },
    "papermill": {
     "duration": 0.456318,
     "end_time": "2021-08-23T16:29:32.887783",
     "exception": false,
     "start_time": "2021-08-23T16:29:32.431465",
     "status": "completed"
    },
    "tags": []
   },
   "outputs": [
    {
     "data": {
      "image/png": "[encoded data removed]",
      "text/plain": [
       "<Figure size 792x360 with 2 Axes>"
      ]
     },
     "metadata": {},
     "output_type": "display_data"
    }
   ],
   "source": [
    "plt.figure(figsize=(11,5))\n",
    "plt.subplot(1,2,1)\n",
    "chimp['class'].value_counts().sort_index().plot.bar()\n",
    "plt.title(\"Chimpanzee Data\");\n",
    "plt.subplot(1,2,2)\n",
    "dog['class'].value_counts().sort_index().plot.bar()\n",
    "plt.title(\"Dog Data\");"
   ]
  },
  {
   "cell_type": "code",
   "execution_count": 41,
   "id": "ba788687",
   "metadata": {
    "execution": {
     "iopub.execute_input": "2021-08-23T16:29:32.986824Z",
     "iopub.status.busy": "2021-08-23T16:29:32.985817Z",
     "iopub.status.idle": "2021-08-23T16:29:33.095605Z",
     "shell.execute_reply": "2021-08-23T16:29:33.095121Z",
     "shell.execute_reply.started": "2021-08-23T12:12:22.882528Z"
    },
    "papermill": {
     "duration": 0.16107,
     "end_time": "2021-08-23T16:29:33.095766",
     "exception": false,
     "start_time": "2021-08-23T16:29:32.934696",
     "status": "completed"
    },
    "tags": []
   },
   "outputs": [],
   "source": [
    "# Predicting the chimp, dog and worm sequences\n",
    "y_pred_chimp = nb_.predict(X_chimp)\n",
    "y_pred_dog = nb_.predict(X_dog)"
   ]
  },
  {
   "cell_type": "markdown",
   "id": "d3dff465",
   "metadata": {
    "papermill": {
     "duration": 0.046308,
     "end_time": "2021-08-23T16:29:33.187893",
     "exception": false,
     "start_time": "2021-08-23T16:29:33.141585",
     "status": "completed"
    },
    "tags": []
   },
   "source": [
    "## Performance on Chimpanzee's Gene"
   ]
  },
  {
   "cell_type": "code",
   "execution_count": 42,
   "id": "35c97b06",
   "metadata": {
    "execution": {
     "iopub.execute_input": "2021-08-23T16:29:33.289661Z",
     "iopub.status.busy": "2021-08-23T16:29:33.289008Z",
     "iopub.status.idle": "2021-08-23T16:29:33.313041Z",
     "shell.execute_reply": "2021-08-23T16:29:33.312442Z",
     "shell.execute_reply.started": "2021-08-23T12:12:22.970204Z"
    },
    "papermill": {
     "duration": 0.077883,
     "end_time": "2021-08-23T16:29:33.313180",
     "exception": false,
     "start_time": "2021-08-23T16:29:33.235297",
     "status": "completed"
    },
    "tags": []
   },
   "outputs": [
    {
     "name": "stdout",
     "output_type": "stream",
     "text": [
      "Confusion matrix\n",
      "\n",
      "Predicted    0    1    2    3    4    5    6\n",
      "Actual                                      \n",
      "0          231    0    0    0    0    0    3\n",
      "1            0  179    0    0    0    0    6\n",
      "2            0    0  144    0    0    0    0\n",
      "3            0    0    0  225    0    0    3\n",
      "4            1    0    0    0  253    0    7\n",
      "5            0    0    0    0    0  109    0\n",
      "6            0    0    0    0    0    0  521\n",
      "accuracy = 0.988 \n",
      "precision = 0.989 \n",
      "recall = 0.988 \n",
      "f1 = 0.988\n"
     ]
    }
   ],
   "source": [
    "\n",
    "print(\"Confusion matrix\\n\")\n",
    "print(pd.crosstab(pd.Series(y_c, name='Actual'), pd.Series(y_pred_chimp, name='Predicted')))\n",
    "accuracy, precision, recall, f1 = get_metrics(y_c, y_pred_chimp)\n",
    "print(\"accuracy = %.3f \\nprecision = %.3f \\nrecall = %.3f \\nf1 = %.3f\" % (accuracy, precision, recall, f1))"
   ]
  },
  {
   "cell_type": "markdown",
   "id": "559a22b5",
   "metadata": {
    "papermill": {
     "duration": 0.046432,
     "end_time": "2021-08-23T16:29:33.407591",
     "exception": false,
     "start_time": "2021-08-23T16:29:33.361159",
     "status": "completed"
    },
    "tags": []
   },
   "source": [
    "## Performance on Dog's Gene"
   ]
  },
  {
   "cell_type": "code",
   "execution_count": 43,
   "id": "e47cd30d",
   "metadata": {
    "execution": {
     "iopub.execute_input": "2021-08-23T16:29:33.510243Z",
     "iopub.status.busy": "2021-08-23T16:29:33.509110Z",
     "iopub.status.idle": "2021-08-23T16:29:33.531747Z",
     "shell.execute_reply": "2021-08-23T16:29:33.531248Z",
     "shell.execute_reply.started": "2021-08-23T12:12:23.00674Z"
    },
    "papermill": {
     "duration": 0.07779,
     "end_time": "2021-08-23T16:29:33.531883",
     "exception": false,
     "start_time": "2021-08-23T16:29:33.454093",
     "status": "completed"
    },
    "tags": []
   },
   "outputs": [
    {
     "name": "stdout",
     "output_type": "stream",
     "text": [
      "Confusion matrix\n",
      "\n",
      "Predicted    0   1   2   3    4   5    6\n",
      "Actual                                  \n",
      "0          124   0   0   0    0   0    7\n",
      "1            0  52   0   0    0   0   23\n",
      "2            0   0  43   0    0   0   21\n",
      "3            1   0   0  64    1   0   29\n",
      "4            0   0   0   0  110   0   25\n",
      "5            0   0   0   0    0  40   20\n",
      "6            0   0   0   0    0   0  260\n",
      "accuracy = 0.845 \n",
      "precision = 0.894 \n",
      "recall = 0.845 \n",
      "f1 = 0.847\n"
     ]
    }
   ],
   "source": [
    "\n",
    "print(\"Confusion matrix\\n\")\n",
    "print(pd.crosstab(pd.Series(y_d, name='Actual'), pd.Series(y_pred_dog, name='Predicted')))\n",
    "accuracy, precision, recall, f1 = get_metrics(y_d, y_pred_dog)\n",
    "print(\"accuracy = %.3f \\nprecision = %.3f \\nrecall = %.3f \\nf1 = %.3f\" % (accuracy, precision, recall, f1))"
   ]
  },
  {
   "cell_type": "markdown",
   "id": "40c80b17",
   "metadata": {
    "papermill": {
     "duration": 0.046415,
     "end_time": "2021-08-23T16:29:33.624976",
     "exception": false,
     "start_time": "2021-08-23T16:29:33.578561",
     "status": "completed"
    },
    "tags": []
   },
   "source": [
    "## Inference :\n",
    "The model seems to perform well on human data. It also does on Chimpanzee. That might not be a surprize since the chimp and human are so similar genetically. The performance on dog is not quite as good. We would expect this since the dog is more divergent from human than the chimpanze."
   ]
  },
  {
   "cell_type": "markdown",
   "id": "59dcc957",
   "metadata": {
    "papermill": {
     "duration": 0.046533,
     "end_time": "2021-08-23T16:29:33.718530",
     "exception": false,
     "start_time": "2021-08-23T16:29:33.671997",
     "status": "completed"
    },
    "tags": []
   },
   "source": [
    "Thanks to Mr.Krish Naik for inspiration to work on this Data"
   ]
  },
  {
   "cell_type": "markdown",
   "id": "7294f818",
   "metadata": {
    "papermill": {
     "duration": 0.046279,
     "end_time": "2021-08-23T16:29:33.811747",
     "exception": false,
     "start_time": "2021-08-23T16:29:33.765468",
     "status": "completed"
    },
    "tags": []
   },
   "source": [
    "## Do Upvote this Notebook if you like it.\n",
    "## Thanks !"
   ]
  }
 ],
 "metadata": {
  "kernelspec": {
   "display_name": "Python 3",
   "language": "python",
   "name": "python3"
  },
  "language_info": {
   "codemirror_mode": {
    "name": "ipython",
    "version": 3
   },
   "file_extension": ".py",
   "mimetype": "text/x-python",
   "name": "python",
   "nbconvert_exporter": "python",
   "pygments_lexer": "ipython3",
   "version": "3.7.10"
  },
  "papermill": {
   "default_parameters": {},
   "duration": 248.676893,
   "end_time": "2021-08-23T16:29:35.069821",
   "environment_variables": {},
   "exception": null,
   "input_path": "__notebook__.ipynb",
   "output_path": "__notebook__.ipynb",
   "parameters": {},
   "start_time": "2021-08-23T16:25:26.392928",
   "version": "2.3.3"
  }
 },
 "nbformat": 4,
 "nbformat_minor": 5
}
